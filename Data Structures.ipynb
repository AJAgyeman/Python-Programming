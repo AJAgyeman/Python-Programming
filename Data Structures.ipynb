{
 "cells": [
  {
   "cell_type": "markdown",
   "id": "3c2e90df",
   "metadata": {},
   "source": [
    "### Q1\n",
    "\n",
    "Name the four built-in data structures in python. Give one examples for each"
   ]
  },
  {
   "cell_type": "code",
   "execution_count": null,
   "id": "6ae7eb73",
   "metadata": {},
   "outputs": [],
   "source": [
    "#1.\n",
    "List"
   ]
  },
  {
   "cell_type": "code",
   "execution_count": null,
   "id": "28dfa2a1",
   "metadata": {},
   "outputs": [],
   "source": [
    "#2.\n",
    "Set"
   ]
  },
  {
   "cell_type": "code",
   "execution_count": null,
   "id": "9d6c73d9",
   "metadata": {},
   "outputs": [],
   "source": [
    "#3.\n",
    "Tuple"
   ]
  },
  {
   "cell_type": "code",
   "execution_count": null,
   "id": "8e961a11",
   "metadata": {},
   "outputs": [],
   "source": [
    "#4.\n",
    "Dictionary"
   ]
  },
  {
   "cell_type": "markdown",
   "id": "b6e1dd1b",
   "metadata": {},
   "source": [
    "### Q2\n",
    "\n",
    "State two differences between a list and a tuple in Python."
   ]
  },
  {
   "cell_type": "code",
   "execution_count": null,
   "id": "903e6eb6",
   "metadata": {},
   "outputs": [],
   "source": [
    "#1. A list is mutable that is, it can manipulated or changed while a tuple is immutable and cannot be manipulated.\n",
    "#2. A list is written with square brackets ([]) while tuples use curly brackets({})."
   ]
  },
  {
   "cell_type": "markdown",
   "id": "815b4e67",
   "metadata": {},
   "source": [
    "### Q3\n",
    "Make a list containing names of five animals with a variable name `animal_list`\n",
    "\n",
    "Write a code for the following:\n",
    "- Print the first two animals\n",
    "- Print the last two animals\n",
    "- Add three extra animals to the variable `animal_list`\n",
    "- Remove the first two animals from the variable `animal_list`\n",
    "- How many animals are in the `animal_list`?\n",
    "- Create a variable animal_set which stores the set of animal_list \n",
    "- How many elements are in the animal_set?\n"
   ]
  },
  {
   "cell_type": "code",
   "execution_count": 1,
   "id": "d64f0ef9",
   "metadata": {},
   "outputs": [],
   "source": [
    "animal_list = [\"antelope\", \"monkey\",\"lion\",\"goat\",\"sheep\"]"
   ]
  },
  {
   "cell_type": "code",
   "execution_count": 2,
   "id": "578f05cb",
   "metadata": {},
   "outputs": [
    {
     "name": "stdout",
     "output_type": "stream",
     "text": [
      "['antelope', 'monkey']\n"
     ]
    }
   ],
   "source": [
    "#1. \n",
    "print(animal_list[:2])"
   ]
  },
  {
   "cell_type": "code",
   "execution_count": 3,
   "id": "bc2bb880",
   "metadata": {},
   "outputs": [
    {
     "name": "stdout",
     "output_type": "stream",
     "text": [
      "['goat', 'sheep']\n"
     ]
    }
   ],
   "source": [
    "#2.\n",
    "print(animal_list[3:])"
   ]
  },
  {
   "cell_type": "code",
   "execution_count": 4,
   "id": "a6452b00",
   "metadata": {},
   "outputs": [
    {
     "name": "stdout",
     "output_type": "stream",
     "text": [
      "['antelope', 'monkey', 'lion', 'goat', 'sheep', 'tiger', 'elephant', 'ostrich']\n"
     ]
    }
   ],
   "source": [
    "#3.\n",
    "new_animals = [\"tiger\",\"elephant\",\"ostrich\"]\n",
    "animal_list.extend(new_animals)\n",
    "print(animal_list)"
   ]
  },
  {
   "cell_type": "code",
   "execution_count": 5,
   "id": "03ae2d57",
   "metadata": {},
   "outputs": [
    {
     "name": "stdout",
     "output_type": "stream",
     "text": [
      "['lion', 'goat', 'sheep', 'tiger', 'elephant', 'ostrich']\n"
     ]
    }
   ],
   "source": [
    "#4.\n",
    "del animal_list[0:2]\n",
    "print(animal_list)"
   ]
  },
  {
   "cell_type": "code",
   "execution_count": 6,
   "id": "da591e8b",
   "metadata": {},
   "outputs": [
    {
     "data": {
      "text/plain": [
       "6"
      ]
     },
     "execution_count": 6,
     "metadata": {},
     "output_type": "execute_result"
    }
   ],
   "source": [
    "#5.\n",
    "len(animal_list)"
   ]
  },
  {
   "cell_type": "code",
   "execution_count": 7,
   "id": "c7f83c1c",
   "metadata": {},
   "outputs": [
    {
     "name": "stdout",
     "output_type": "stream",
     "text": [
      "{'goat', 'lion', 'elephant', 'ostrich', 'tiger', 'sheep'}\n",
      "<class 'set'>\n"
     ]
    }
   ],
   "source": [
    "#6.\n",
    "animal_set = set(animal_list)\n",
    "print(animal_set)\n",
    "print(type(animal_set))"
   ]
  },
  {
   "cell_type": "code",
   "execution_count": 8,
   "id": "7e003157",
   "metadata": {},
   "outputs": [
    {
     "data": {
      "text/plain": [
       "6"
      ]
     },
     "execution_count": 8,
     "metadata": {},
     "output_type": "execute_result"
    }
   ],
   "source": [
    "#7.\n",
    "len(animal_set)"
   ]
  },
  {
   "cell_type": "markdown",
   "id": "113c9970",
   "metadata": {},
   "source": [
    "### Q4\n",
    "\n",
    "Given a list:\n",
    "\n",
    "suitcase = [\"sunglasses\", \"hat\", \"passport\", \"laptop\", \"suit\", \"shoes\"]\n",
    "\n",
    "a. Create a list called first containing only the two first items from suitcase.\n",
    "\n",
    "b. Create a list called middle containing only the two middle items from suitcase.\n",
    "\n",
    "c. Create a list called last made up only of the last two items from suitcase."
   ]
  },
  {
   "cell_type": "code",
   "execution_count": 9,
   "id": "4f22c5ec",
   "metadata": {},
   "outputs": [],
   "source": [
    "suitcase = [\"sunglasses\", \"hat\", \"passport\", \"laptop\", \"suit\", \"shoes\"]"
   ]
  },
  {
   "cell_type": "code",
   "execution_count": 10,
   "id": "9d0ff6e9",
   "metadata": {},
   "outputs": [
    {
     "name": "stdout",
     "output_type": "stream",
     "text": [
      "['sunglasses', 'hat']\n"
     ]
    }
   ],
   "source": [
    "#a.\n",
    "first = suitcase[:2]\n",
    "print(first)"
   ]
  },
  {
   "cell_type": "code",
   "execution_count": 11,
   "id": "5483577e",
   "metadata": {},
   "outputs": [
    {
     "name": "stdout",
     "output_type": "stream",
     "text": [
      "['passport', 'laptop']\n"
     ]
    }
   ],
   "source": [
    "#b.\n",
    "middle = suitcase[2:4]\n",
    "print(middle)"
   ]
  },
  {
   "cell_type": "code",
   "execution_count": 12,
   "id": "2659e503",
   "metadata": {},
   "outputs": [
    {
     "name": "stdout",
     "output_type": "stream",
     "text": [
      "['laptop', 'suit', 'shoes']\n"
     ]
    }
   ],
   "source": [
    "#c.\n",
    "last = suitcase[3:]\n",
    "print(last)"
   ]
  },
  {
   "cell_type": "markdown",
   "id": "711ba044",
   "metadata": {},
   "source": [
    "### Q5\n",
    "Write a python code to insert 35 into the list below. Make sure it is inserted in the right position to maintain the order of the data.\n",
    "\n",
    "`values = [20,25,30,40,45,50,55,60,65,70]`"
   ]
  },
  {
   "cell_type": "code",
   "execution_count": 30,
   "id": "9b4c8ff8",
   "metadata": {},
   "outputs": [],
   "source": [
    "values = [20,25,30,40,45,50,55,60,65,70]\n",
    "values.insert(3,35)"
   ]
  },
  {
   "cell_type": "code",
   "execution_count": 31,
   "id": "e1387596",
   "metadata": {},
   "outputs": [
    {
     "name": "stdout",
     "output_type": "stream",
     "text": [
      "[20, 25, 30, 35, 40, 45, 50, 55, 60, 65, 70]\n"
     ]
    }
   ],
   "source": [
    "print(values)"
   ]
  },
  {
   "cell_type": "markdown",
   "id": "f535cf64",
   "metadata": {},
   "source": [
    "### Q6\n",
    "\n",
    "Given that Python lists and Python tuples are quite similar – when might you prefer to use a tuple over a list?"
   ]
  },
  {
   "cell_type": "code",
   "execution_count": 14,
   "id": "bc5fd97c",
   "metadata": {},
   "outputs": [],
   "source": [
    "#I would use a tuple over a list when I don't want to manipulate or change my data or avoid it change from mistakes."
   ]
  },
  {
   "cell_type": "markdown",
   "id": "346927f6",
   "metadata": {},
   "source": [
    "### Q7\n",
    "Create a dictionary with 5 Ghana regions and their capitals and store it in the variable `region_capital`\n",
    "\n",
    "- Print out the keys of region_capital\n",
    "- Print out the values of region_capital\n"
   ]
  },
  {
   "cell_type": "code",
   "execution_count": 15,
   "id": "6ee8c7e5",
   "metadata": {},
   "outputs": [],
   "source": [
    "regional_capital = {\"Greater Accra\":\"Accra\",\n",
    "                   \"Volta\":\"Ho\",\n",
    "                   \"Central\":\"Cape-Coast\",\n",
    "                   \"Eastern\": \"Koforidua\",\n",
    "                   \"Brong Ahafo\":\"Sunyani\",\n",
    "                   \"Northern\":\"Tamale\"}"
   ]
  },
  {
   "cell_type": "code",
   "execution_count": 16,
   "id": "62237f4d",
   "metadata": {},
   "outputs": [
    {
     "name": "stdout",
     "output_type": "stream",
     "text": [
      "dict_keys(['Greater Accra', 'Volta', 'Central', 'Eastern', 'Brong Ahafo', 'Northern'])\n"
     ]
    }
   ],
   "source": [
    "print(regional_capital.keys())"
   ]
  },
  {
   "cell_type": "code",
   "execution_count": 17,
   "id": "61784d9a",
   "metadata": {},
   "outputs": [
    {
     "name": "stdout",
     "output_type": "stream",
     "text": [
      "dict_values(['Accra', 'Ho', 'Cape-Coast', 'Koforidua', 'Sunyani', 'Tamale'])\n"
     ]
    }
   ],
   "source": [
    "print(regional_capital.values())"
   ]
  },
  {
   "cell_type": "markdown",
   "id": "70526b3b",
   "metadata": {},
   "source": [
    "### Q8\n",
    "\n",
    "`values = [3,4,5,6,3,4,3,5,2,4,2,5,6,1,6]`\n",
    "\n",
    "Using the codes above answer the following questions:\n",
    "- What is the total number of elements in values?\n",
    "- What is the highest occuring number in the values variable?\n",
    "- Convert values into a set and store it into a variable named `values_set`\n",
    "- How many elements are in the variable values_set?\n"
   ]
  },
  {
   "cell_type": "code",
   "execution_count": 32,
   "id": "6619a69f",
   "metadata": {},
   "outputs": [
    {
     "data": {
      "text/plain": [
       "[3, 4, 5, 6, 3, 4, 3, 5, 2, 4, 2, 5, 6, 1, 6, 3]"
      ]
     },
     "execution_count": 32,
     "metadata": {},
     "output_type": "execute_result"
    }
   ],
   "source": [
    "values = [3,4,5,6,3,4,3,5,2,4,2,5,6,1,6]\n",
    "values.append(3)\n",
    "values"
   ]
  },
  {
   "cell_type": "code",
   "execution_count": 33,
   "id": "630a4b8d",
   "metadata": {},
   "outputs": [
    {
     "name": "stdout",
     "output_type": "stream",
     "text": [
      "62\n"
     ]
    }
   ],
   "source": [
    "#1.\n",
    "total_num = sum(values)\n",
    "print(total_num)"
   ]
  },
  {
   "cell_type": "code",
   "execution_count": 37,
   "id": "ec884e16",
   "metadata": {},
   "outputs": [
    {
     "name": "stdout",
     "output_type": "stream",
     "text": [
      "3\n"
     ]
    }
   ],
   "source": [
    "#2.\n",
    "highest_occuring_number = None\n",
    "highest_occuring_count = 0\n",
    "\n",
    "for num in set(values):\n",
    "    count = values.count(num)\n",
    "    if count > highest_occuring_count:\n",
    "        highest_occuring_count = count\n",
    "        highest_occuring_number = num\n",
    "\n",
    "print(highest_occuring_number)"
   ]
  },
  {
   "cell_type": "code",
   "execution_count": 38,
   "id": "75ff27e0",
   "metadata": {},
   "outputs": [
    {
     "name": "stdout",
     "output_type": "stream",
     "text": [
      "{1, 2, 3, 4, 5, 6}\n"
     ]
    }
   ],
   "source": [
    "#3.\n",
    "values_set = set(values)\n",
    "print(values_set)"
   ]
  },
  {
   "cell_type": "code",
   "execution_count": 22,
   "id": "b302ec73",
   "metadata": {},
   "outputs": [
    {
     "data": {
      "text/plain": [
       "6"
      ]
     },
     "execution_count": 22,
     "metadata": {},
     "output_type": "execute_result"
    }
   ],
   "source": [
    "#4.\n",
    "len(values_set)"
   ]
  },
  {
   "cell_type": "markdown",
   "id": "801d5876",
   "metadata": {},
   "source": [
    "### Q9\n",
    "Write a Python script to print a dictionary where the keys are numbers between 1 and 15 (both included) and the values are the square of the keys."
   ]
  },
  {
   "cell_type": "code",
   "execution_count": 23,
   "id": "8cb9a178",
   "metadata": {},
   "outputs": [
    {
     "name": "stdout",
     "output_type": "stream",
     "text": [
      "{1: 1, 2: 4, 3: 9, 4: 16, 5: 25, 6: 36, 7: 49, 8: 64, 9: 81, 10: 100, 11: 121, 12: 144, 13: 169, 14: 196, 15: 225}\n",
      "<class 'dict'>\n"
     ]
    }
   ],
   "source": [
    "numbers = {}\n",
    "for a in range(1,16):\n",
    "    numbers[a]= a**2\n",
    "print(numbers)\n",
    "print(type(numbers))"
   ]
  },
  {
   "cell_type": "markdown",
   "id": "caaccb63",
   "metadata": {},
   "source": [
    "### Q10\n",
    "Write a Python program to create a dictionary of keys x, y, and z where each key has as value a list from 11-20, 21-30, and 31-40 respectively. Access the fifth value of each key from the dictionary."
   ]
  },
  {
   "cell_type": "code",
   "execution_count": 27,
   "id": "87bce94f",
   "metadata": {},
   "outputs": [],
   "source": [
    "num_values = {'x': list(range(11,21)), 'y': list(range(21,31)), 'z': list(range(31,41))}\n",
    "x_fifth_value = num_values['x'][4]\n",
    "y_fifth_value = num_values['y'][4]\n",
    "z_fifth_value = num_values['z'][4]"
   ]
  },
  {
   "cell_type": "code",
   "execution_count": 28,
   "id": "fec19820",
   "metadata": {},
   "outputs": [
    {
     "name": "stdout",
     "output_type": "stream",
     "text": [
      "15\n",
      "25\n",
      "35\n"
     ]
    }
   ],
   "source": [
    "print(x_fifth_value)\n",
    "print(y_fifth_value)\n",
    "print(z_fifth_value)\n"
   ]
  }
 ],
 "metadata": {
  "kernelspec": {
   "display_name": "Python 3 (ipykernel)",
   "language": "python",
   "name": "python3"
  },
  "language_info": {
   "codemirror_mode": {
    "name": "ipython",
    "version": 3
   },
   "file_extension": ".py",
   "mimetype": "text/x-python",
   "name": "python",
   "nbconvert_exporter": "python",
   "pygments_lexer": "ipython3",
   "version": "3.9.13"
  }
 },
 "nbformat": 4,
 "nbformat_minor": 5
}
