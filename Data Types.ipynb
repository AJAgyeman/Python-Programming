{
 "cells": [
  {
   "cell_type": "markdown",
   "id": "ab9b2082",
   "metadata": {},
   "source": [
    "### Q1\n",
    "List the basic data types in python and give one example each."
   ]
  },
  {
   "cell_type": "code",
   "execution_count": null,
   "id": "6c25a697",
   "metadata": {},
   "outputs": [],
   "source": [
    "#There are four basic data types in python. These are string, boolean, integer and float.\n",
    "\n",
    "#Example of a string is\n",
    "\"Welcome to Blossom Academy\"\n",
    "\n",
    "#Example of a boolean is\n",
    "True\n",
    "\n",
    "#Example of an integer is\n",
    "49\n",
    "\n",
    "#Example of a float is\n",
    "3.567\n"
   ]
  },
  {
   "cell_type": "markdown",
   "id": "4a2be5ba",
   "metadata": {},
   "source": [
    "### Q2\n",
    "Change the variable x = 4539.85 to :\n",
    "\n",
    "(i) a string and assign it to a new variable y,\n",
    "\n",
    "(ii) an integer and assign it to a new variable z\n",
    "\n",
    "Print out the type of y and z."
   ]
  },
  {
   "cell_type": "code",
   "execution_count": 2,
   "id": "4f69aaca",
   "metadata": {},
   "outputs": [
    {
     "name": "stdout",
     "output_type": "stream",
     "text": [
      "4539.85\n"
     ]
    }
   ],
   "source": [
    "x = 4539.85\n",
    "y = str(x)\n",
    "print(y)"
   ]
  },
  {
   "cell_type": "code",
   "execution_count": 3,
   "id": "2c23f7b3",
   "metadata": {},
   "outputs": [
    {
     "name": "stdout",
     "output_type": "stream",
     "text": [
      "4539\n"
     ]
    }
   ],
   "source": [
    "z = int(x)\n",
    "print(z)"
   ]
  },
  {
   "cell_type": "code",
   "execution_count": 5,
   "id": "f1176de6",
   "metadata": {},
   "outputs": [
    {
     "name": "stdout",
     "output_type": "stream",
     "text": [
      "<class 'str'>\n",
      "<class 'int'>\n"
     ]
    }
   ],
   "source": [
    "print(type(y))\n",
    "print(type(z))"
   ]
  },
  {
   "cell_type": "markdown",
   "id": "81a1251c",
   "metadata": {},
   "source": [
    "### Q3\n",
    "\n",
    "What data type would you use to store\n",
    "\n",
    "a. The price of car?\n",
    "\n",
    "b. The age of a person\n",
    "\n",
    "c. car plate number: plateNumber = \"AV01-AFP\"?\n",
    "\n",
    "d. The price of fuel\n",
    "\n",
    "e. The number of students in the class\n",
    "\n",
    "f. The weight of a person\n",
    "\n",
    "g. Check whether two figures are equal\n",
    "\n",
    "i. The name of a  school\n",
    "\n",
    "j. The average result of the overall score of a student\n",
    "\n",
    "k. The total number of vote cast\n",
    "\n"
   ]
  },
  {
   "cell_type": "code",
   "execution_count": 6,
   "id": "7ba07117",
   "metadata": {},
   "outputs": [],
   "source": [
    "#a.float\n",
    "\n",
    "#b.integer\n",
    "\n",
    "#c.string\n",
    "\n",
    "#d.float\n",
    "\n",
    "#e.integer\n",
    "\n",
    "#f.float\n",
    "\n",
    "#g.boolean\n",
    "\n",
    "#i.string\n",
    "\n",
    "#j.float\n",
    "\n",
    "#k.integer"
   ]
  },
  {
   "cell_type": "markdown",
   "id": "f0694362",
   "metadata": {},
   "source": [
    "### Q4\n",
    "**Thomas Partey is arguably the best player in the Black Stars. He is a great addition to the team**\n",
    "\n",
    "Split the statement above into **two statement_1** and **statement_2** such that statement_1 will be 'Thomas Partey is arguably the best player in the Black Stars' and statement_2 will be 'He is a great addition to the team'\n",
    "\n",
    "Statement:\n",
    "\n",
    "- **What is the length of statment 1?**\n",
    "-**What is the length of statment 2?**\n",
    "-**Is the length of statement 1 greater than statement 2**"
   ]
  },
  {
   "cell_type": "code",
   "execution_count": 81,
   "id": "ee303ef2",
   "metadata": {},
   "outputs": [
    {
     "data": {
      "text/plain": [
       "['Thomas Partey is arguably the best player in the Black Stars',\n",
       " 'He is a great addition to the team']"
      ]
     },
     "execution_count": 81,
     "metadata": {},
     "output_type": "execute_result"
    }
   ],
   "source": [
    "statement = \"Thomas Partey is arguably the best player in the Black Stars. He is a great addition to the team\"\n",
    "statement.split(\". \")"
   ]
  },
  {
   "cell_type": "code",
   "execution_count": 82,
   "id": "94a81827",
   "metadata": {},
   "outputs": [],
   "source": [
    "statement_1 = 'Thomas Partey is arguably the best player in the Black Stars'\n",
    "statement_2 = 'He is a great addition to the team'"
   ]
  },
  {
   "cell_type": "code",
   "execution_count": 29,
   "id": "6256e453",
   "metadata": {},
   "outputs": [
    {
     "data": {
      "text/plain": [
       "60"
      ]
     },
     "execution_count": 29,
     "metadata": {},
     "output_type": "execute_result"
    }
   ],
   "source": [
    "#1. \n",
    "len(statement_1)"
   ]
  },
  {
   "cell_type": "code",
   "execution_count": 30,
   "id": "e50cfdac",
   "metadata": {},
   "outputs": [
    {
     "data": {
      "text/plain": [
       "34"
      ]
     },
     "execution_count": 30,
     "metadata": {},
     "output_type": "execute_result"
    }
   ],
   "source": [
    "#2.\n",
    "len(statement_2)"
   ]
  },
  {
   "cell_type": "code",
   "execution_count": 31,
   "id": "1afb4db4",
   "metadata": {},
   "outputs": [
    {
     "data": {
      "text/plain": [
       "True"
      ]
     },
     "execution_count": 31,
     "metadata": {},
     "output_type": "execute_result"
    }
   ],
   "source": [
    "#3.\n",
    "len(statement_1) > len(statement_2)"
   ]
  },
  {
   "cell_type": "markdown",
   "id": "ceb46447",
   "metadata": {},
   "source": [
    "### Q5\n",
    "What values does python use to represent **True** and **False** respectively?"
   ]
  },
  {
   "cell_type": "code",
   "execution_count": null,
   "id": "5781b7b7",
   "metadata": {},
   "outputs": [],
   "source": [
    "# False = 0 \n",
    "\n",
    "# True = 1"
   ]
  },
  {
   "cell_type": "markdown",
   "id": "e4cc9b15",
   "metadata": {},
   "source": [
    "### Q6\n",
    "Write a code to evaluate if the following statments are True or False.\n",
    "\n",
    "1. 78 is greater than 46 and less than 30 which is an odd number.\n",
    "\n",
    "2. 8-2 is an even number or 8 is a is an odd number.\n",
    "\n",
    "3. The number of characters in the word 'boostrap' is 7 and that of 'sample' is 6."
   ]
  },
  {
   "cell_type": "code",
   "execution_count": 42,
   "id": "14a770d7",
   "metadata": {},
   "outputs": [
    {
     "data": {
      "text/plain": [
       "False"
      ]
     },
     "execution_count": 42,
     "metadata": {},
     "output_type": "execute_result"
    }
   ],
   "source": [
    "#1.\n",
    "78 > 46 and 78 < (30%2 == 1)"
   ]
  },
  {
   "cell_type": "code",
   "execution_count": 43,
   "id": "63e44dc4",
   "metadata": {},
   "outputs": [
    {
     "data": {
      "text/plain": [
       "True"
      ]
     },
     "execution_count": 43,
     "metadata": {},
     "output_type": "execute_result"
    }
   ],
   "source": [
    "#2.\n",
    "(8 - 2)%2 == 0 or 8%2 == 1"
   ]
  },
  {
   "cell_type": "code",
   "execution_count": 44,
   "id": "ff6aa346",
   "metadata": {},
   "outputs": [
    {
     "data": {
      "text/plain": [
       "False"
      ]
     },
     "execution_count": 44,
     "metadata": {},
     "output_type": "execute_result"
    }
   ],
   "source": [
    "#3.\n",
    "len(\"bootstrap\") == 7 and len(\"sample\") == 6"
   ]
  },
  {
   "cell_type": "markdown",
   "id": "bc13f9fc",
   "metadata": {},
   "source": [
    "### Q7\n",
    "Given the following python code,\n",
    "\n",
    "`word='Hello, How are you?'`\n",
    "\n",
    "Write Python code to return the following\n",
    "\n",
    "- How\n",
    "- How are you\n",
    "- are\n",
    "- ?\n",
    "- Hello, How are you\n",
    "\n",
    "\n",
    " "
   ]
  },
  {
   "cell_type": "code",
   "execution_count": 47,
   "id": "a9ee757a",
   "metadata": {},
   "outputs": [
    {
     "data": {
      "text/plain": [
       "['Hello,', 'How', 'are', 'you?']"
      ]
     },
     "execution_count": 47,
     "metadata": {},
     "output_type": "execute_result"
    }
   ],
   "source": [
    "word = \"Hello, How are you?\"\n",
    "word.split(\" \")"
   ]
  },
  {
   "cell_type": "code",
   "execution_count": 54,
   "id": "8e4b7a86",
   "metadata": {},
   "outputs": [],
   "source": [
    "new_word = ['Hello,', 'How', 'are', 'you?']"
   ]
  },
  {
   "cell_type": "code",
   "execution_count": 55,
   "id": "b65574cf",
   "metadata": {},
   "outputs": [
    {
     "data": {
      "text/plain": [
       "'How'"
      ]
     },
     "execution_count": 55,
     "metadata": {},
     "output_type": "execute_result"
    }
   ],
   "source": [
    "#1.\n",
    "new_word[1]"
   ]
  },
  {
   "cell_type": "code",
   "execution_count": 57,
   "id": "8a7480fa",
   "metadata": {},
   "outputs": [
    {
     "data": {
      "text/plain": [
       "'How are you?'"
      ]
     },
     "execution_count": 57,
     "metadata": {},
     "output_type": "execute_result"
    }
   ],
   "source": [
    "#2.\n",
    "word[7:]"
   ]
  },
  {
   "cell_type": "code",
   "execution_count": 58,
   "id": "b41bb924",
   "metadata": {},
   "outputs": [
    {
     "data": {
      "text/plain": [
       "'are'"
      ]
     },
     "execution_count": 58,
     "metadata": {},
     "output_type": "execute_result"
    }
   ],
   "source": [
    "#3.\n",
    "new_word[2]"
   ]
  },
  {
   "cell_type": "code",
   "execution_count": 67,
   "id": "9b0fbc2d",
   "metadata": {},
   "outputs": [
    {
     "data": {
      "text/plain": [
       "'?'"
      ]
     },
     "execution_count": 67,
     "metadata": {},
     "output_type": "execute_result"
    }
   ],
   "source": [
    "#4.\n",
    "word[-1]"
   ]
  },
  {
   "cell_type": "code",
   "execution_count": 76,
   "id": "5a24da66",
   "metadata": {},
   "outputs": [
    {
     "name": "stdout",
     "output_type": "stream",
     "text": [
      "Hello, How are you?\n"
     ]
    }
   ],
   "source": [
    "#5.\n",
    "print(word)"
   ]
  },
  {
   "cell_type": "markdown",
   "id": "e4167de5",
   "metadata": {},
   "source": [
    "### Q8\n",
    "Given the following python code,\n",
    "\n",
    "`sentence = \"I am very excited\"`\n",
    "\n",
    "Write Python code to return \n",
    "- Convert sentence to upper case\n",
    "- Convert sentence to lower case\n",
    "- Convert sentence to title case\n",
    "- Convert sentence to list of strings\n",
    " "
   ]
  },
  {
   "cell_type": "code",
   "execution_count": 83,
   "id": "0a6a1989",
   "metadata": {},
   "outputs": [],
   "source": [
    "sentence = \"I am very excited\""
   ]
  },
  {
   "cell_type": "code",
   "execution_count": 87,
   "id": "29b2e1b2",
   "metadata": {},
   "outputs": [
    {
     "data": {
      "text/plain": [
       "'I AM VERY EXCITED'"
      ]
     },
     "execution_count": 87,
     "metadata": {},
     "output_type": "execute_result"
    }
   ],
   "source": [
    "#1.\n",
    "sentence.upper()"
   ]
  },
  {
   "cell_type": "code",
   "execution_count": 88,
   "id": "5ef8a268",
   "metadata": {},
   "outputs": [
    {
     "data": {
      "text/plain": [
       "'i am very excited'"
      ]
     },
     "execution_count": 88,
     "metadata": {},
     "output_type": "execute_result"
    }
   ],
   "source": [
    "#2.\n",
    "sentence.lower()"
   ]
  },
  {
   "cell_type": "code",
   "execution_count": 85,
   "id": "5ea7718d",
   "metadata": {},
   "outputs": [
    {
     "data": {
      "text/plain": [
       "'I Am Very Excited'"
      ]
     },
     "execution_count": 85,
     "metadata": {},
     "output_type": "execute_result"
    }
   ],
   "source": [
    "#3.\n",
    "sentence.title()"
   ]
  },
  {
   "cell_type": "code",
   "execution_count": 84,
   "id": "d5d5456d",
   "metadata": {},
   "outputs": [
    {
     "data": {
      "text/plain": [
       "['I', 'am', 'very', 'excited']"
      ]
     },
     "execution_count": 84,
     "metadata": {},
     "output_type": "execute_result"
    }
   ],
   "source": [
    "#4.\n",
    "sentence.split(\" \")"
   ]
  },
  {
   "cell_type": "markdown",
   "id": "4faf0134",
   "metadata": {},
   "source": [
    "### Q9\n",
    "`word = 'OneThirtyEight'`\n",
    "\n",
    "Using Python code extract the following from the variable word:\n",
    "- One\n",
    "- Thirty\n",
    "- Eight\n",
    "- OneThirty\n",
    "- ThirtyEight\n",
    "- ONETHIRTYEIGHT"
   ]
  },
  {
   "cell_type": "code",
   "execution_count": 69,
   "id": "7652f596",
   "metadata": {},
   "outputs": [
    {
     "data": {
      "text/plain": [
       "'One'"
      ]
     },
     "execution_count": 69,
     "metadata": {},
     "output_type": "execute_result"
    }
   ],
   "source": [
    "#I had to change the variable name from \"word\" to \"words\" because of question 7 which already had \"word\" as a variable.\n",
    "words = 'OneThirtyEight' \n",
    "#1.\n",
    "words[:3]"
   ]
  },
  {
   "cell_type": "code",
   "execution_count": 70,
   "id": "f9a1ad88",
   "metadata": {},
   "outputs": [
    {
     "data": {
      "text/plain": [
       "'Thirty'"
      ]
     },
     "execution_count": 70,
     "metadata": {},
     "output_type": "execute_result"
    }
   ],
   "source": [
    "#2.\n",
    "words[3:9]"
   ]
  },
  {
   "cell_type": "code",
   "execution_count": 71,
   "id": "665a738f",
   "metadata": {},
   "outputs": [
    {
     "data": {
      "text/plain": [
       "'Eight'"
      ]
     },
     "execution_count": 71,
     "metadata": {},
     "output_type": "execute_result"
    }
   ],
   "source": [
    "#3.\n",
    "words[9:14]"
   ]
  },
  {
   "cell_type": "code",
   "execution_count": 72,
   "id": "f0653289",
   "metadata": {},
   "outputs": [
    {
     "data": {
      "text/plain": [
       "'OneThirty'"
      ]
     },
     "execution_count": 72,
     "metadata": {},
     "output_type": "execute_result"
    }
   ],
   "source": [
    "#4.\n",
    "words[:9]"
   ]
  },
  {
   "cell_type": "code",
   "execution_count": 73,
   "id": "024855f5",
   "metadata": {},
   "outputs": [
    {
     "data": {
      "text/plain": [
       "'ThirtyEight'"
      ]
     },
     "execution_count": 73,
     "metadata": {},
     "output_type": "execute_result"
    }
   ],
   "source": [
    "#5.\n",
    "words[3:14]"
   ]
  },
  {
   "cell_type": "code",
   "execution_count": 74,
   "id": "28b1aae1",
   "metadata": {},
   "outputs": [
    {
     "data": {
      "text/plain": [
       "'ONETHIRTYEIGHT'"
      ]
     },
     "execution_count": 74,
     "metadata": {},
     "output_type": "execute_result"
    }
   ],
   "source": [
    "#6.\n",
    "words.upper()"
   ]
  },
  {
   "cell_type": "markdown",
   "id": "2a4eea1f",
   "metadata": {},
   "source": [
    "### Q10\n",
    "Turn Ault'Kelly into a string and assign it to a variable  called name."
   ]
  },
  {
   "cell_type": "code",
   "execution_count": 98,
   "id": "aa2f0a08",
   "metadata": {},
   "outputs": [
    {
     "data": {
      "text/plain": [
       "str"
      ]
     },
     "execution_count": 98,
     "metadata": {},
     "output_type": "execute_result"
    }
   ],
   "source": [
    "name = \"Ault'Kelly\"\n",
    "type(name)"
   ]
  }
 ],
 "metadata": {
  "kernelspec": {
   "display_name": "Python 3 (ipykernel)",
   "language": "python",
   "name": "python3"
  },
  "language_info": {
   "codemirror_mode": {
    "name": "ipython",
    "version": 3
   },
   "file_extension": ".py",
   "mimetype": "text/x-python",
   "name": "python",
   "nbconvert_exporter": "python",
   "pygments_lexer": "ipython3",
   "version": "3.9.13"
  }
 },
 "nbformat": 4,
 "nbformat_minor": 5
}
