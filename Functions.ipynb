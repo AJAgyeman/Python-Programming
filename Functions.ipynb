{
 "cells": [
  {
   "cell_type": "markdown",
   "id": "352dd2e3",
   "metadata": {},
   "source": [
    "### Q1\n",
    "\n",
    "Define a python function that calculate the perimeter of the rectangle\n",
    "\n",
    "Formular\n",
    "\n",
    "formular => 2 X length + 2 X Width"
   ]
  },
  {
   "cell_type": "code",
   "execution_count": 145,
   "id": "da2764c4",
   "metadata": {},
   "outputs": [],
   "source": [
    "def rec_perimeter(length, width):\n",
    "    \"\"\"\n",
    "    This function is a formular for the perimeter of a rectangle.\n",
    "    \n",
    "    Input:\n",
    "    length: int, value one\n",
    "    width: int, value two\n",
    "    \n",
    "    Output:\n",
    "    Returns the sum of length*2 and width*2.\n",
    "    \n",
    "    \"\"\"\n",
    "    return(length*2 + width*2)"
   ]
  },
  {
   "cell_type": "code",
   "execution_count": 146,
   "id": "739b79b7",
   "metadata": {},
   "outputs": [
    {
     "name": "stdout",
     "output_type": "stream",
     "text": [
      "The perimeter of the rectangle is 16.\n"
     ]
    }
   ],
   "source": [
    "print(f\"The perimeter of the rectangle is {rec_perimeter(3,5)}.\")"
   ]
  },
  {
   "cell_type": "markdown",
   "id": "a56ccec8",
   "metadata": {},
   "source": [
    "### Q2\n",
    "Define the function to calculate the area of a circle. Round the answer to 3 decimal places.\n",
    "\n",
    "**Preamble**\n",
    " - Take pi as 22/7\n",
    " - formular pi x r ** 2"
   ]
  },
  {
   "cell_type": "code",
   "execution_count": 147,
   "id": "634f4782",
   "metadata": {},
   "outputs": [],
   "source": [
    "def circle_area(r):\n",
    "    \"\"\"\n",
    "    This function is a formular for the area of a circle.\n",
    "    \n",
    "    Input:\n",
    "    r(radius): int, one argument\n",
    "    \n",
    "    Output:\n",
    "    Returns the product of pi(22/7) and r**2, rounded to 3 decimal places.\n",
    "    \n",
    "    \"\"\"\n",
    "    pi = 22/7\n",
    "    return(round(pi*r**2,3))"
   ]
  },
  {
   "cell_type": "code",
   "execution_count": 148,
   "id": "a1e0589d",
   "metadata": {},
   "outputs": [
    {
     "name": "stdout",
     "output_type": "stream",
     "text": [
      "The area of the circle is 78.571.\n"
     ]
    }
   ],
   "source": [
    "print(f\"The area of the circle is {circle_area(5)}.\")"
   ]
  },
  {
   "cell_type": "markdown",
   "id": "be5a6965",
   "metadata": {},
   "source": [
    "### Q3\n",
    "Define a function that takes a list of numbers and print out the **mean**, **median** and **mode**.\n",
    "\n",
    "- Test your function with the list b\n",
    "\n",
    "`b = [2,3,4,6,7,3,4,3,2,1,3]`"
   ]
  },
  {
   "cell_type": "code",
   "execution_count": 149,
   "id": "c006c8fa",
   "metadata": {},
   "outputs": [],
   "source": [
    "b = [2,3,4,6,7,3,4,3,2,1,3]\n",
    "def stats_lst(x):\n",
    "    \"\"\"\n",
    "    This function prints out the mean, median and mode in a list of integers.\n",
    "    \n",
    "    Input:\n",
    "    x: name of int list\n",
    "    \n",
    "    Output:\n",
    "    Returns mean, median and mode of the list.\n",
    "    \n",
    "    \"\"\"\n",
    "    #mean\n",
    "    mean = round((sum(x) / len(x)),3)\n",
    "    print(f\"Mean: {mean}\")\n",
    "    #median\n",
    "    sort = sorted(x)\n",
    "    num_len = len(x)\n",
    "    if num_len % 2 == 0:\n",
    "        median = (sort[num_len//2 - 1] + sort[num_len//2]) / 2\n",
    "    else:\n",
    "        median = sort[num_len//2]\n",
    "    print(f\"Median: {median}\")\n",
    "    \n",
    "    #mode\n",
    "    mode = max(x, key=x.count) \n",
    "    print(f\"Mode: {mode}\")\n",
    "    \n",
    "    return \" \""
   ]
  },
  {
   "cell_type": "code",
   "execution_count": 150,
   "id": "a3ca9cc0",
   "metadata": {},
   "outputs": [
    {
     "name": "stdout",
     "output_type": "stream",
     "text": [
      "Mean: 3.455\n",
      "Median: 3\n",
      "Mode: 3\n",
      " \n"
     ]
    }
   ],
   "source": [
    "print(stats_lst(b))"
   ]
  },
  {
   "cell_type": "markdown",
   "id": "3313ab10",
   "metadata": {},
   "source": [
    "### Q4\n",
    "Define a function that prints out the list of the first 20 prime numbers"
   ]
  },
  {
   "cell_type": "code",
   "execution_count": 14,
   "id": "6a29ba1e",
   "metadata": {},
   "outputs": [],
   "source": [
    "def prime_nums():\n",
    "    \"\"\"\n",
    "    This function prints out the list of the first 20 prime numbers\n",
    "    \n",
    "    Input:\n",
    "    n: int, one argument\n",
    "    \n",
    "    Output:\n",
    "    Return the list of the first 20 prime numbers\n",
    "    \n",
    "    \"\"\"\n",
    "    prime_list = []  \n",
    "    n = 2 \n",
    "    while len(prime_list) < 20:\n",
    "        prime = True\n",
    "        for i in range(2, int(n ** 0.5) + 1):\n",
    "            if n % i == 0:\n",
    "                prime = False\n",
    "                break\n",
    "        if prime:\n",
    "            prime_list.append(n)\n",
    "        n += 1\n",
    "    print(prime_list)\n",
    "    return \" \""
   ]
  },
  {
   "cell_type": "code",
   "execution_count": 15,
   "id": "8fd18829",
   "metadata": {},
   "outputs": [
    {
     "name": "stdout",
     "output_type": "stream",
     "text": [
      "[2, 3, 5, 7, 11, 13, 17, 19, 23, 29, 31, 37, 41, 43, 47, 53, 59, 61, 67, 71]\n",
      " \n"
     ]
    }
   ],
   "source": [
    "print(prime_nums())"
   ]
  },
  {
   "cell_type": "markdown",
   "id": "ef1c5863",
   "metadata": {},
   "source": [
    "#### Q5\n",
    "Define a function that takes a list of strings and print out the string and the length of the string.\n",
    "\n",
    "**Example of expected output**\n",
    "\n",
    "{\"Kofi\":4,\n",
    "\"Ama\":3,\n",
    "\"Sedem\":5}"
   ]
  },
  {
   "cell_type": "code",
   "execution_count": 153,
   "id": "6a9aba7a",
   "metadata": {},
   "outputs": [],
   "source": [
    "def str_len(lst):\n",
    "    \"\"\"\n",
    "    This function takes a list of strings and print out \n",
    "    the string and the length of the string.\n",
    "    \n",
    "    Input:\n",
    "    lst: string list\n",
    "    \n",
    "    Output:\n",
    "    Prints out each string in a list of strings along with its length.\n",
    "    \n",
    "    \"\"\"\n",
    "    str_dict = {}\n",
    "    for item in lst:\n",
    "        str_dict[item] = len(item)\n",
    "    return str_dict"
   ]
  },
  {
   "cell_type": "code",
   "execution_count": 154,
   "id": "cf9264f4",
   "metadata": {},
   "outputs": [
    {
     "name": "stdout",
     "output_type": "stream",
     "text": [
      "{'Adwoa': 5, 'Mark': 4, 'Albert': 6}\n"
     ]
    }
   ],
   "source": [
    "names = [\"Adwoa\", \"Mark\", \"Albert\"]\n",
    "print(str_len(names))"
   ]
  },
  {
   "cell_type": "markdown",
   "id": "5072c8d8",
   "metadata": {},
   "source": [
    "### Q6\n",
    "Define a function that takes a list of strings and numbers and print out only the strings and the position of the strings.\n",
    "\n",
    "**Preamble**\n",
    "\n",
    "names = ['sedem', 'Kofi', 'kobla']\n",
    "\n",
    "**Expected Output**\n",
    "\n",
    "{'sedem': P0, 'Kofi': P1, 'kobla': P2}"
   ]
  },
  {
   "cell_type": "code",
   "execution_count": 155,
   "id": "18a25cbf",
   "metadata": {},
   "outputs": [],
   "source": [
    "def print_string_positions(lst1):\n",
    "    \"\"\"\n",
    "    This function takes a list of strings and numbers and print out only the strings and the position of the strings.\n",
    "    \n",
    "    Input:\n",
    "    lst1: string list\n",
    "    \n",
    "    Output:\n",
    "    Prints out each string in a list of strings along with its index.\n",
    "    \n",
    "    \"\"\"\n",
    "    position_dict = {}\n",
    "    for index, item in enumerate(lst1):\n",
    "        if type(item) == str:\n",
    "            position_dict[item] = \"P\" + str(index)\n",
    "    return position_dict"
   ]
  },
  {
   "cell_type": "code",
   "execution_count": 156,
   "id": "b2babeee",
   "metadata": {},
   "outputs": [
    {
     "data": {
      "text/plain": [
       "{'Adwoa': 'P0', 'Mark': 'P2', 'Albert': 'P4'}"
      ]
     },
     "execution_count": 156,
     "metadata": {},
     "output_type": "execute_result"
    }
   ],
   "source": [
    "names2 = [\"Adwoa\", 23, \"Mark\", 27, \"Albert\", 19]\n",
    "print_string_positions(names2)"
   ]
  },
  {
   "cell_type": "markdown",
   "id": "5593b665",
   "metadata": {},
   "source": [
    "### Q7\n",
    "Define a function that returns whether the sum of a person age and person's date of birth equals 2023\n",
    "\n",
    "**Preamble**\n",
    "\n",
    "2001 + 22 => True\n",
    "\n",
    "2002 + 5 => False"
   ]
  },
  {
   "cell_type": "code",
   "execution_count": 157,
   "id": "3fb98c63",
   "metadata": {},
   "outputs": [],
   "source": [
    "def sum_year_age(year_of_birth, age):\n",
    "    \"\"\"\n",
    "    This function determines whether the sum of a person age and person's date of birth equals 2023.\n",
    "    \n",
    "    Input:\n",
    "    year: int value\n",
    "    \n",
    "    Output:\n",
    "    Prints out a boolean (True or False), if the sum of a person age and person's date of birth equals 2023\n",
    "    \n",
    "    \"\"\"\n",
    "    sum_year = year_of_birth + age == 2023\n",
    "    return sum_year"
   ]
  },
  {
   "cell_type": "code",
   "execution_count": 158,
   "id": "b13193f0",
   "metadata": {},
   "outputs": [
    {
     "name": "stdout",
     "output_type": "stream",
     "text": [
      "True\n",
      "False\n"
     ]
    }
   ],
   "source": [
    "print(sum_year_age(2001, 22))\n",
    "print(sum_year_age(2002, 5))"
   ]
  },
  {
   "cell_type": "markdown",
   "id": "f831e652",
   "metadata": {},
   "source": [
    "### Q8\n",
    "Define a function that determine whether a particular year is a **decade**, the output should be a boolean (True or False)\n"
   ]
  },
  {
   "cell_type": "code",
   "execution_count": 159,
   "id": "b2f8ea48",
   "metadata": {},
   "outputs": [],
   "source": [
    "def decade(year):\n",
    "    \"\"\"\n",
    "    This function determines whether a particular year is a decade.\n",
    "    \n",
    "    Input:\n",
    "    year: int value\n",
    "    \n",
    "    Output:\n",
    "    Prints out a boolean (True or False), if year is a decade.\n",
    "    \n",
    "    \"\"\"\n",
    "    a_decade = year % 10 == 0\n",
    "    return a_decade"
   ]
  },
  {
   "cell_type": "code",
   "execution_count": 160,
   "id": "61fa32e5",
   "metadata": {},
   "outputs": [
    {
     "name": "stdout",
     "output_type": "stream",
     "text": [
      "True\n",
      "False\n",
      "False\n",
      "True\n"
     ]
    }
   ],
   "source": [
    "print(decade(2020))\n",
    "print(decade(2019))\n",
    "print(decade(2506))\n",
    "print(decade(2610))\n"
   ]
  },
  {
   "cell_type": "markdown",
   "id": "211c19e3",
   "metadata": {},
   "source": [
    "### Q9\n",
    "Define a function that contains a list of strings and punctuations,the output should on return the list of punctuations.\n"
   ]
  },
  {
   "cell_type": "code",
   "execution_count": 161,
   "id": "9702cc98",
   "metadata": {},
   "outputs": [],
   "source": [
    "def get_punctuation(lst):\n",
    "    \"\"\"\n",
    "    This function returns a list containing the punctuation marks in a list of strings and punctuation.\n",
    "\n",
    "    Input:\n",
    "    lst: A list of strings and punctuation.\n",
    "\n",
    "    Output:\n",
    "    A list containing the punctuation marks in the input list.\n",
    "    \n",
    "    \"\"\"\n",
    "    punctuation_lst = [\".\", \",\", \";\", \":\", \"!\", \"?\", \"-\", \"'\", \"\\\"\", \"(\", \")\", \"[\", \"]\", \"{\", \"}\", \"/\", \"\\\\\", \"|\", \"@\", \"#\", \"$\", \"%\", \"^\", \"&\", \"*\", \"+\", \"=\", \"<\", \">\", \"`\", \"~\"]\n",
    "    punc = []\n",
    "    for item in lst:\n",
    "        for char in item:\n",
    "            if char in punctuation_lst:\n",
    "                punc.append(char)\n",
    "    return punc"
   ]
  },
  {
   "cell_type": "code",
   "execution_count": 162,
   "id": "86619c8f",
   "metadata": {},
   "outputs": [
    {
     "name": "stdout",
     "output_type": "stream",
     "text": [
      "[':', '*', '#', ',', \"'\", '.', \"'\", '@']\n"
     ]
    }
   ],
   "source": [
    "list_1 = [\"Enter: *170#\", \"She said, 'Coding is fun.'\", \"@badgalriri\"]\n",
    "punc = get_punctuation(list_1)\n",
    "print(punc)"
   ]
  },
  {
   "cell_type": "markdown",
   "id": "34bae9ec",
   "metadata": {},
   "source": [
    "### Q10\n",
    "\n",
    "Define a lambda function that print out the cubic root of a list of numbers"
   ]
  },
  {
   "cell_type": "code",
   "execution_count": 163,
   "id": "487ee127",
   "metadata": {},
   "outputs": [],
   "source": [
    "cube = [1, 8, 27, 64, 125]\n",
    "\"\"\"\n",
    "    This function is a formular that prints out the cubic root of a list of numbers.\n",
    "    \n",
    "    Input:\n",
    "    cube: int list\n",
    "    \n",
    "    Output:\n",
    "    Returns the cubic root of all the numbers in a list.\n",
    "    \n",
    "\"\"\"\n",
    "cubic_root_lambda = lambda x: round((x**(1/3)))"
   ]
  },
  {
   "cell_type": "code",
   "execution_count": 164,
   "id": "d6b3a2a6",
   "metadata": {},
   "outputs": [
    {
     "name": "stdout",
     "output_type": "stream",
     "text": [
      "[1, 2, 3, 4, 5]\n"
     ]
    }
   ],
   "source": [
    "print(list(map(cubic_root_lambda, cube)))"
   ]
  },
  {
   "cell_type": "markdown",
   "id": "37974632",
   "metadata": {},
   "source": [
    "### Q11\n",
    "Define a lambda function that print out the cube of a list of numbers"
   ]
  },
  {
   "cell_type": "code",
   "execution_count": 165,
   "id": "17e9866e",
   "metadata": {},
   "outputs": [],
   "source": [
    "nums_lst = [1, 2, 3, 4, 5]\n",
    "\"\"\"\n",
    "    This function is a formular that prints out the cube of a list of numbers.\n",
    "    \n",
    "    Input:\n",
    "    nums_lst: int list\n",
    "    \n",
    "    Output:\n",
    "    Returns the cube of all the numbers in a list.\n",
    "    \n",
    "\"\"\"\n",
    "cube_lambda = lambda x: x**3\n"
   ]
  },
  {
   "cell_type": "code",
   "execution_count": 166,
   "id": "697d6fde",
   "metadata": {},
   "outputs": [
    {
     "name": "stdout",
     "output_type": "stream",
     "text": [
      "[1, 8, 27, 64, 125]\n"
     ]
    }
   ],
   "source": [
    "print(list(map(cube_lambda, nums_lst)))"
   ]
  },
  {
   "cell_type": "markdown",
   "id": "b1522dbb",
   "metadata": {},
   "source": [
    "### Q12\n",
    "Define a function that take a list of list of numbers and return a list that contains the average of each sublist using map."
   ]
  },
  {
   "cell_type": "code",
   "execution_count": 167,
   "id": "f49bd2cc",
   "metadata": {},
   "outputs": [],
   "source": [
    "def avgList(lst):\n",
    "    \"\"\"\n",
    "    This function prints out a list that contains the average of each sublist using map.\n",
    "    \n",
    "    Input:\n",
    "    lst: int list\n",
    "    \n",
    "    Output:\n",
    "    Returns a list that contains the average of each sublist.\n",
    "    \n",
    "    \"\"\"\n",
    "    return list(map(lambda x: sum(x)/len(x), lst))"
   ]
  },
  {
   "cell_type": "code",
   "execution_count": 168,
   "id": "1dff3a69",
   "metadata": {},
   "outputs": [
    {
     "name": "stdout",
     "output_type": "stream",
     "text": [
      "[2.0, 5.0, 8.0]\n"
     ]
    }
   ],
   "source": [
    "list_num = [[1, 2, 3], [4, 5, 6], [7, 8, 9]]\n",
    "avg_num = avgList(list_num)\n",
    "print(avg_num)"
   ]
  },
  {
   "cell_type": "code",
   "execution_count": 169,
   "id": "f43a08f8",
   "metadata": {},
   "outputs": [],
   "source": [
    "list_num = [[1, 2, 3], [4, 5, 6], [7, 8, 9]]\n",
    "\"\"\"\n",
    "    This function prints out a list that contains the average of each sublist using map.\n",
    "    \n",
    "    Input:\n",
    "    lst: int list\n",
    "    \n",
    "    Output:\n",
    "    Returns a list that contains the average of each sublist.\n",
    "    \n",
    "\"\"\"\n",
    "sublist_avg = lambda x: sum(x)/len(x)"
   ]
  },
  {
   "cell_type": "code",
   "execution_count": 170,
   "id": "e62caf76",
   "metadata": {},
   "outputs": [
    {
     "name": "stdout",
     "output_type": "stream",
     "text": [
      "[2.0, 5.0, 8.0]\n"
     ]
    }
   ],
   "source": [
    "print(list(map(sublist_avg, list_num)))"
   ]
  },
  {
   "cell_type": "markdown",
   "id": "0fd5cd06",
   "metadata": {},
   "source": [
    "### Q13\n",
    "Define a function that takes a list of strings and filter out strings that are upper case."
   ]
  },
  {
   "cell_type": "code",
   "execution_count": 171,
   "id": "65345979",
   "metadata": {},
   "outputs": [],
   "source": [
    "def upper_case(name):\n",
    "    \"\"\"\n",
    "    This function filters out strings in a list that are upper case.\n",
    "    \n",
    "    Input:\n",
    "    lst: str list\n",
    "    \n",
    "    Output:\n",
    "    Return a list of strings that are upper case only.\n",
    "    \n",
    "    \"\"\"\n",
    "    return name.isupper()"
   ]
  },
  {
   "cell_type": "code",
   "execution_count": 172,
   "id": "b8deb563",
   "metadata": {},
   "outputs": [
    {
     "name": "stdout",
     "output_type": "stream",
     "text": [
      "['HO', 'SUNYANI']\n"
     ]
    }
   ],
   "source": [
    "cities = [\"AccRa\", \"HO\", \"Cape-coast\", \"KoforIDua\", \"SUNYANI\", \"tamale\"]\n",
    "upper_cities = list(filter(upper_case, cities))\n",
    "print(upper_cities)"
   ]
  },
  {
   "cell_type": "markdown",
   "id": "d0dddd17",
   "metadata": {},
   "source": [
    "### Q14\n",
    "Define a function that takes a list of numbers and print out the numbers which are prime in the list."
   ]
  },
  {
   "cell_type": "code",
   "execution_count": 183,
   "id": "b0558b7c",
   "metadata": {},
   "outputs": [],
   "source": [
    "def prime_nums(numbers):\n",
    "    \"\"\"\n",
    "    This function prints out the numbers which are prime in a list.\n",
    "    \n",
    "    Input:\n",
    "    lst: int list\n",
    "    \n",
    "    Output:\n",
    "    Returns prime numbers.\n",
    "    \n",
    "    \"\"\"\n",
    "    for num in numbers:\n",
    "        if num > 1:\n",
    "            for i in range(2, num):\n",
    "                if (num % i) == 0:\n",
    "                    break\n",
    "            else:\n",
    "                print(num)"
   ]
  },
  {
   "cell_type": "code",
   "execution_count": 185,
   "id": "46858412",
   "metadata": {},
   "outputs": [
    {
     "name": "stdout",
     "output_type": "stream",
     "text": [
      "2\n",
      "3\n",
      "5\n",
      "7\n"
     ]
    }
   ],
   "source": [
    "prime_lts = [1, 2, 3, 4, 5, 6, 7, 8, 9, 10]\n",
    "prime_nums(prime_lts) "
   ]
  },
  {
   "cell_type": "markdown",
   "id": "240741dc",
   "metadata": {},
   "source": [
    "### Q15\n",
    "Define a function that take a list of strings and return a zip of each string and length of a string."
   ]
  },
  {
   "cell_type": "code",
   "execution_count": 175,
   "id": "8c7e8385",
   "metadata": {},
   "outputs": [
    {
     "name": "stdout",
     "output_type": "stream",
     "text": [
      "('Adwoa', 5)\n",
      "('Mark', 4)\n",
      "('Albert', 6)\n"
     ]
    }
   ],
   "source": [
    "def zip_str(strings):\n",
    "    \"\"\"\n",
    "    This function returns a zip object containing each string and its length.\n",
    "\n",
    "    Input:\n",
    "    strings: str list.\n",
    "\n",
    "    Output:\n",
    "    Returns a zip containing a string and its length.\n",
    "    \n",
    "    \"\"\"\n",
    "    return zip(strings, map(len, strings))\n",
    "names = [\"Adwoa\", \"Mark\", \"Albert\"]\n",
    "zipp = string_zip(names)\n",
    "\n",
    "for item in zipp:\n",
    "    print(item)"
   ]
  },
  {
   "cell_type": "markdown",
   "id": "44a1339f",
   "metadata": {},
   "source": [
    "### Q16\n",
    "Define a function that takes in a number and return the first 12 multiples of the the number.\n",
    "\n",
    "Expected Output\n",
    "\n",
    "2 X 1 = 2\n",
    "\n",
    "to\n",
    "\n",
    "2 X 12 = 24"
   ]
  },
  {
   "cell_type": "code",
   "execution_count": 176,
   "id": "658a3a89",
   "metadata": {},
   "outputs": [],
   "source": [
    "def multiple_num(n):\n",
    "    \"\"\"\n",
    "    This function takes in a number and prints out the first 12 multiples of a number.\n",
    "    \n",
    "    Input:\n",
    "    n: int value\n",
    "    \n",
    "    Output:\n",
    "    Returns the first 12 multiples of a number.\n",
    "    \n",
    "    \"\"\"\n",
    "    count = 1\n",
    "    while count <= 12:\n",
    "        a = n * count\n",
    "        print(f\"{n} X {count} = {a}\")\n",
    "        count += 1\n",
    "    return \" \""
   ]
  },
  {
   "cell_type": "code",
   "execution_count": 177,
   "id": "7d614243",
   "metadata": {},
   "outputs": [
    {
     "name": "stdout",
     "output_type": "stream",
     "text": [
      "2 X 1 = 2\n",
      "2 X 2 = 4\n",
      "2 X 3 = 6\n",
      "2 X 4 = 8\n",
      "2 X 5 = 10\n",
      "2 X 6 = 12\n",
      "2 X 7 = 14\n",
      "2 X 8 = 16\n",
      "2 X 9 = 18\n",
      "2 X 10 = 20\n",
      "2 X 11 = 22\n",
      "2 X 12 = 24\n",
      " \n"
     ]
    }
   ],
   "source": [
    "print(multiple_num(2))"
   ]
  },
  {
   "cell_type": "markdown",
   "id": "cd63dd99",
   "metadata": {},
   "source": [
    "### Q17\n",
    "Write a Python function to find the maximum of three numbers.\n",
    "\n",
    "**Do not use the max function**"
   ]
  },
  {
   "cell_type": "code",
   "execution_count": 178,
   "id": "5e26eb87",
   "metadata": {},
   "outputs": [],
   "source": [
    "def max_number(num_1, num_2, num_3):\n",
    "    \"\"\"\n",
    "    This function is a formular to find the maximum of three numbers.\n",
    "    \n",
    "    Input:\n",
    "    num_1: int, first value\n",
    "    num_2: int, second value\n",
    "    num_3: int, third value\n",
    "    \n",
    "    Output:\n",
    "    Returns the maximum of three numbers.\n",
    "    \n",
    "    \"\"\"\n",
    "    max_num = num_1\n",
    "    if num_2 > max_num:\n",
    "        max_num = num_2\n",
    "    if num_3 > max_num:\n",
    "        max_num = num_3\n",
    "    return max_num"
   ]
  },
  {
   "cell_type": "code",
   "execution_count": 179,
   "id": "6964aa2a",
   "metadata": {},
   "outputs": [
    {
     "name": "stdout",
     "output_type": "stream",
     "text": [
      "The maximum number is 10.\n"
     ]
    }
   ],
   "source": [
    "max_num = max_number(10, 5, 7)\n",
    "print(f\"The maximum number is {max_num}.\")"
   ]
  },
  {
   "cell_type": "markdown",
   "id": "67520c0b",
   "metadata": {},
   "source": [
    "### Q18\n",
    "Write a Python function to multiply all the numbers in a list."
   ]
  },
  {
   "cell_type": "code",
   "execution_count": 96,
   "id": "d10aa9d4",
   "metadata": {},
   "outputs": [],
   "source": [
    "def multiply_lst(nums):\n",
    "    \"\"\"\n",
    "    This function multiplies all the numbers in a list.\n",
    "    \n",
    "    Input:\n",
    "    nums: int list\n",
    "    \n",
    "    Output:\n",
    "    Returns the product of all the numbers in a list.\n",
    "    \n",
    "    \"\"\"\n",
    "    x = 1\n",
    "    for num in nums:\n",
    "        x *= num\n",
    "    return x"
   ]
  },
  {
   "cell_type": "code",
   "execution_count": 97,
   "id": "3d708788",
   "metadata": {},
   "outputs": [
    {
     "name": "stdout",
     "output_type": "stream",
     "text": [
      "The product of the list, [1, 2, 3, 4, 5] is 120.\n"
     ]
    }
   ],
   "source": [
    "numbers = [1, 2, 3, 4, 5]\n",
    "multiply_result = multiply_lst(numbers)\n",
    "print(f\"The product of the list, {numbers} is {multiply_result}.\")"
   ]
  },
  {
   "cell_type": "markdown",
   "id": "05891582",
   "metadata": {},
   "source": [
    "### Q19\n",
    "Write a Python program to reverse a string"
   ]
  },
  {
   "cell_type": "code",
   "execution_count": 98,
   "id": "962a6e22",
   "metadata": {},
   "outputs": [],
   "source": [
    "def reverse_wrd(wrd):\n",
    "    \"\"\"\n",
    "    This function returns the reverse of a string.\n",
    "    \n",
    "    Input:\n",
    "    str: string value\n",
    "    \n",
    "    Output:\n",
    "    Returns the reverse of a string.\n",
    "    \n",
    "    \"\"\"\n",
    "    rev_message = \"\"\n",
    "    for i in range(len(wrd)-1, -1, -1):\n",
    "        rev_message += wrd[i]\n",
    "    return rev_message"
   ]
  },
  {
   "cell_type": "code",
   "execution_count": 99,
   "id": "8c475fcf",
   "metadata": {},
   "outputs": [
    {
     "name": "stdout",
     "output_type": "stream",
     "text": [
      "The reverse of 'Apples and Mango are fruits' is 'stiurf era ognaM dna selppA'.\n"
     ]
    }
   ],
   "source": [
    "fruits = \"Apples and Mango are fruits\"\n",
    "rev_fruits = reverse_wrd(fruits)\n",
    "print(f\"The reverse of '{fruits}' is '{rev_fruits}'.\")"
   ]
  },
  {
   "cell_type": "markdown",
   "id": "b9025ac8",
   "metadata": {},
   "source": [
    "### Q20\n",
    "Write a python function to return the length of a string."
   ]
  },
  {
   "cell_type": "code",
   "execution_count": 100,
   "id": "762bb5e6",
   "metadata": {},
   "outputs": [],
   "source": [
    "def len_of_str(msg):\n",
    "    \"\"\"\n",
    "    This function returns the length of a string.\n",
    "    \n",
    "    Input:\n",
    "    str: string value\n",
    "    \n",
    "    Output:\n",
    "    Returns the length of a string.\n",
    "    \n",
    "    \"\"\"\n",
    "    return len(msg)"
   ]
  },
  {
   "cell_type": "code",
   "execution_count": 101,
   "id": "18c97935",
   "metadata": {},
   "outputs": [
    {
     "name": "stdout",
     "output_type": "stream",
     "text": [
      "The length of the text is 16.\n"
     ]
    }
   ],
   "source": [
    "message = \"Coding in Python\"\n",
    "message_len = len_of_str(message)\n",
    "print(f\"The length of the text is {message_len}.\")"
   ]
  }
 ],
 "metadata": {
  "kernelspec": {
   "display_name": "Python 3 (ipykernel)",
   "language": "python",
   "name": "python3"
  },
  "language_info": {
   "codemirror_mode": {
    "name": "ipython",
    "version": 3
   },
   "file_extension": ".py",
   "mimetype": "text/x-python",
   "name": "python",
   "nbconvert_exporter": "python",
   "pygments_lexer": "ipython3",
   "version": "3.9.13"
  }
 },
 "nbformat": 4,
 "nbformat_minor": 5
}
